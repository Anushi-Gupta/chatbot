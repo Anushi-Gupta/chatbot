{
 "cells": [
  {
   "cell_type": "code",
   "execution_count": 3,
   "id": "be96e075",
   "metadata": {},
   "outputs": [],
   "source": [
    "from nltk.chat.util import Chat, reflections"
   ]
  },
  {
   "cell_type": "code",
   "execution_count": 4,
   "id": "0e479ee9",
   "metadata": {},
   "outputs": [
    {
     "data": {
      "text/plain": [
       "nltk.chat.util.Chat"
      ]
     },
     "execution_count": 4,
     "metadata": {},
     "output_type": "execute_result"
    }
   ],
   "source": [
    "Chat"
   ]
  },
  {
   "cell_type": "code",
   "execution_count": 5,
   "id": "d58cd8ba",
   "metadata": {},
   "outputs": [
    {
     "data": {
      "text/plain": [
       "{'i am': 'you are',\n",
       " 'i was': 'you were',\n",
       " 'i': 'you',\n",
       " \"i'm\": 'you are',\n",
       " \"i'd\": 'you would',\n",
       " \"i've\": 'you have',\n",
       " \"i'll\": 'you will',\n",
       " 'my': 'your',\n",
       " 'you are': 'I am',\n",
       " 'you were': 'I was',\n",
       " \"you've\": 'I have',\n",
       " \"you'll\": 'I will',\n",
       " 'your': 'my',\n",
       " 'yours': 'mine',\n",
       " 'you': 'me',\n",
       " 'me': 'you'}"
      ]
     },
     "execution_count": 5,
     "metadata": {},
     "output_type": "execute_result"
    }
   ],
   "source": [
    "reflections"
   ]
  },
  {
   "cell_type": "markdown",
   "id": "12a07db0",
   "metadata": {},
   "source": [
    "# Piars in list of pattern n reponses"
   ]
  },
  {
   "cell_type": "code",
   "execution_count": 6,
   "id": "1aba6603",
   "metadata": {},
   "outputs": [],
   "source": [
    "pairs = [\n",
    "    [\n",
    "        r\"my name is (.*)\",\n",
    "        [\"hello %1, how are you today ?\",]\n",
    "    ],\n",
    "    [\n",
    "        r\"what is your name ?\",\n",
    "        [\"My name is chatterbot , i am a chatbot.\",]\n",
    "    ],\n",
    "    [\n",
    "        r\"how are you ?\",\n",
    "        [\"I am good , How about you ?\",]\n",
    "    ],\n",
    "    [\n",
    "        r\"sorry (.*)\",\n",
    "        [\"its okk , never mind.\",]\n",
    "    ],\n",
    "    [\n",
    "        r\"I am (.*) doing good\",\n",
    "        [\"Nice to hear that\",\"Aright :)\",]\n",
    "    ],\n",
    "    [\n",
    "        r\"hi|hey|hello\",\n",
    "        [\"hello\",\"hey there\",]\n",
    "    ],\n",
    "    [\n",
    "        r\"(.*) age\",\n",
    "        [\"Seriously buddy i am a computer and you are asking this??\",]\n",
    "    ],\n",
    "    [\n",
    "        r\"what (.*) want?\",\n",
    "        [\"Make me an offer i cant refuse\",]\n",
    "    ],\n",
    "    [\n",
    "        r\" (.*) created? \",\n",
    "        [\"Aditi created me using python nltk library\",\"top secret\",]\n",
    "    ],\n",
    "    [\n",
    "        r\"(.*) (location|city) ?\",\n",
    "        ['Jaipur','Rajasthan',]\n",
    "    ],\n",
    "    [\n",
    "        r\"I am (.*) doing good\",\n",
    "        [\"Nice to hear that\",\"Aright :)\",]\n",
    "    ],\n",
    "]"
   ]
  },
  {
   "cell_type": "code",
   "execution_count": 16,
   "id": "e144cf16",
   "metadata": {},
   "outputs": [],
   "source": [
    "def abc():\n",
    "    print(\"Welcome to Chatbot\")\n",
    "    chat=Chat(pairs,reflections)\n",
    "    return chat.converse()"
   ]
  },
  {
   "cell_type": "code",
   "execution_count": 17,
   "id": "d444216a",
   "metadata": {},
   "outputs": [
    {
     "name": "stdout",
     "output_type": "stream",
     "text": [
      "Welcome to Chatbot\n",
      ">my name is aditi\n",
      "hello aditi, how are you today ?\n",
      ">i am doing good\n",
      "None\n",
      ">quit\n",
      "None\n"
     ]
    }
   ],
   "source": [
    "if __name__==\"__main__\":\n",
    "    abc()"
   ]
  },
  {
   "cell_type": "code",
   "execution_count": null,
   "id": "d4ea4a50",
   "metadata": {},
   "outputs": [],
   "source": []
  }
 ],
 "metadata": {
  "kernelspec": {
   "display_name": "Python 3",
   "language": "python",
   "name": "python3"
  },
  "language_info": {
   "codemirror_mode": {
    "name": "ipython",
    "version": 3
   },
   "file_extension": ".py",
   "mimetype": "text/x-python",
   "name": "python",
   "nbconvert_exporter": "python",
   "pygments_lexer": "ipython3",
   "version": "3.6.13"
  }
 },
 "nbformat": 4,
 "nbformat_minor": 5
}
