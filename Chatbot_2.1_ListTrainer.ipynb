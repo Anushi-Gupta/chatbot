{
 "cells": [
  {
   "cell_type": "code",
   "execution_count": 1,
   "id": "72b67c5d",
   "metadata": {},
   "outputs": [],
   "source": [
    "from chatterbot import ChatBot"
   ]
  },
  {
   "cell_type": "code",
   "execution_count": 2,
   "id": "74452cd7",
   "metadata": {},
   "outputs": [
    {
     "name": "stderr",
     "output_type": "stream",
     "text": [
      "[nltk_data] Downloading package averaged_perceptron_tagger to\n",
      "[nltk_data]     C:\\Users\\ADITI GUPTA\\AppData\\Roaming\\nltk_data...\n",
      "[nltk_data]   Package averaged_perceptron_tagger is already up-to-\n",
      "[nltk_data]       date!\n",
      "[nltk_data] Downloading package punkt to C:\\Users\\ADITI\n",
      "[nltk_data]     GUPTA\\AppData\\Roaming\\nltk_data...\n",
      "[nltk_data]   Package punkt is already up-to-date!\n",
      "[nltk_data] Downloading package stopwords to C:\\Users\\ADITI\n",
      "[nltk_data]     GUPTA\\AppData\\Roaming\\nltk_data...\n",
      "[nltk_data]   Package stopwords is already up-to-date!\n"
     ]
    }
   ],
   "source": [
    "chatbot = ChatBot(\"Datatrained\")"
   ]
  },
  {
   "cell_type": "code",
   "execution_count": 3,
   "id": "8598b605",
   "metadata": {},
   "outputs": [],
   "source": [
    "from chatterbot.trainers import ListTrainer"
   ]
  },
  {
   "cell_type": "code",
   "execution_count": 4,
   "id": "1a8b2adf",
   "metadata": {},
   "outputs": [],
   "source": [
    "conversation=[\n",
    "    \"hello\",\n",
    "    \"hi, how are you\",\n",
    "    \"i am fine\",\n",
    "    \"how can i help you\",\n",
    "    \"I need suggestion regarding my career\",\n",
    "    \"As far the recent data is concerned data science is a good option.\",\n",
    "    \"I am planning for the same\",\n",
    "    \"what else you need from me\",\n",
    "    \"Nothing.. I am haapy with your answer\",\n",
    "    \"Thanks for connecting with me\"\n",
    "]"
   ]
  },
  {
   "cell_type": "code",
   "execution_count": 5,
   "id": "2960af74",
   "metadata": {},
   "outputs": [],
   "source": [
    "trainer = ListTrainer(chatbot)"
   ]
  },
  {
   "cell_type": "code",
   "execution_count": 6,
   "id": "b00ee892",
   "metadata": {},
   "outputs": [
    {
     "name": "stdout",
     "output_type": "stream",
     "text": [
      "List Trainer: [####################] 100%\n"
     ]
    }
   ],
   "source": [
    "trainer.train(conversation)"
   ]
  },
  {
   "cell_type": "code",
   "execution_count": 9,
   "id": "64228cef",
   "metadata": {},
   "outputs": [
    {
     "name": "stdout",
     "output_type": "stream",
     "text": [
      "user_reponse:hi\n"
     ]
    },
    {
     "name": "stderr",
     "output_type": "stream",
     "text": [
      "No value for search_text was available on the provided input\n"
     ]
    },
    {
     "name": "stdout",
     "output_type": "stream",
     "text": [
      "Bot reponse: As far the recent data is concerned data science is a good option.\n",
      "user_reponse:hello\n"
     ]
    },
    {
     "name": "stderr",
     "output_type": "stream",
     "text": [
      "No value for search_text was available on the provided input\n"
     ]
    },
    {
     "name": "stdout",
     "output_type": "stream",
     "text": [
      "Bot reponse: hi, how are you\n",
      "user_reponse:i need suggestion regarding my career\n"
     ]
    },
    {
     "name": "stderr",
     "output_type": "stream",
     "text": [
      "No value for search_text was available on the provided input\n"
     ]
    },
    {
     "name": "stdout",
     "output_type": "stream",
     "text": [
      "Bot reponse: As far the recent data is concerned data science is a good option.\n",
      "user_reponse:what else you need from me\n"
     ]
    },
    {
     "name": "stderr",
     "output_type": "stream",
     "text": [
      "No value for search_text was available on the provided input\n"
     ]
    },
    {
     "name": "stdout",
     "output_type": "stream",
     "text": [
      "Bot reponse: Nothing.. I am haapy with your answer\n",
      "user_reponse:bye\n"
     ]
    }
   ],
   "source": [
    "while True:\n",
    "    user_response = input(\"user_reponse:\")\n",
    "    if user_response==\"quit\" or user_response==\"exit\" or user_response==\"bye\":\n",
    "        break\n",
    "    print(\"Bot reponse:\",chatbot.get_response(user_response))"
   ]
  },
  {
   "cell_type": "code",
   "execution_count": 10,
   "id": "43fa7035",
   "metadata": {},
   "outputs": [
    {
     "name": "stdout",
     "output_type": "stream",
     "text": [
      "user_reponse:hi\n"
     ]
    },
    {
     "name": "stderr",
     "output_type": "stream",
     "text": [
      "No value for search_text was available on the provided input\n"
     ]
    },
    {
     "name": "stdout",
     "output_type": "stream",
     "text": [
      "Bot reponse: As far the recent data is concerned data science is a good option.\n",
      "user_reponse:hello\n"
     ]
    },
    {
     "name": "stderr",
     "output_type": "stream",
     "text": [
      "No value for search_text was available on the provided input\n"
     ]
    },
    {
     "name": "stdout",
     "output_type": "stream",
     "text": [
      "Bot reponse: hi, how are you\n",
      "user_reponse:bye\n"
     ]
    }
   ],
   "source": [
    "while True:\n",
    "    user_response = input(\"user_reponse:\")\n",
    "    if user_response==\"quit\" or user_response==\"exit\" or user_response==\"bye\":\n",
    "        break\n",
    "    print(\"Bot reponse:\",chatbot.get_response(user_response))"
   ]
  },
  {
   "cell_type": "code",
   "execution_count": null,
   "id": "a446d49f",
   "metadata": {},
   "outputs": [],
   "source": []
  }
 ],
 "metadata": {
  "kernelspec": {
   "display_name": "Python 3",
   "language": "python",
   "name": "python3"
  },
  "language_info": {
   "codemirror_mode": {
    "name": "ipython",
    "version": 3
   },
   "file_extension": ".py",
   "mimetype": "text/x-python",
   "name": "python",
   "nbconvert_exporter": "python",
   "pygments_lexer": "ipython3",
   "version": "3.6.13"
  }
 },
 "nbformat": 4,
 "nbformat_minor": 5
}
